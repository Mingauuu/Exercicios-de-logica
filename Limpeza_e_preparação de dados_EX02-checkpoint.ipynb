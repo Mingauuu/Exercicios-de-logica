{
 "cells": [
  {
   "cell_type": "markdown",
   "metadata": {},
   "source": [
    "# Tarefa 02 Módulo 05\n",
    "\n",
    "O nosso projeto desta sequência de módulos do curso será um aprofundamento da demonstração sobre classificação de risco de crédito que vimos lá no comecinho. Pois recebemos uma base já montada pra nós. Tenha certeza de que ela passou por um longo processamento até ficar daquele jeito. Neste exercício vamos exercitar o que aprendemos nas ultimas aulas e montar a variável resposta da base do nosso projeto.\n",
    "\n",
    "#### Marcação de bom e mau\n",
    "O objetivo da modelagem é classificar o risco de inadimplência, ou como se diz no meio, o risco de *default*. Podemos fazer longas discussões sobre o conceito de *default* com base em estudos e exigências regulatórias, para efeitos deste estudo, um cliente em *default* é aquele que está em 60 dias de atraso ou mais. Então classificaremos os clientes como 'bons' e 'maus' assim:\n",
    "- **Maus** pagadores: são aqueles que entraram em 'default' (atraso 60 dias ou mais) nos 24 meses seguintes à aquisição do cartão de crédito. \n",
    "- **Bons** pagadores: são considerados todos os demais.\n",
    "- **Excluídos**: Clientes que não adquiriram um cartão de crédito (seja por recusa, seja por desistência) não possuem informações de pagamento, portanto não se pode identificar se são bons ou maus. Há uma longa discussão e literatura sobre *inferência de rejeitados* que está fora do escopo deste exercício.\n",
    "\n",
    "#### Bases disponíveis\n",
    "Temos duas bases importantes aqui: uma de propostas, com diversas informações dos vários solicitantes de cartão de crédito, e uma base de pagamentos. A base de pagamentos será utilizada para identificar a ocorrência de *default*. A base de propostas tem diversas informações coletadas no momento da solicitação do crédito (isto é importante: qualquer informação posterior a essa data é impossível de ser coletada na aplicação do modelo e não pode ser utilizada).\n",
    "\n",
    "As variáveis delas são:\n",
    "\n",
    "Base de propostas - application_records.csv\n",
    "\n",
    "| Nome da Variável         | Description                                         | Tipo  |\n",
    "| ------------------------ |:---------------------------------------------------:| -----:|\n",
    "| ID| identificador do cliente (chave) |inteiro|\n",
    "| CODE_GENDER| M = 'Masculino'; F = 'Feminino' |M/F|\n",
    "| FLAG_OWN_CAR| Y = 'possui'; N = 'não possui' |Y/N|\n",
    "| FLAG_OWN_REALTY| Y = 'possui'; N = 'não possui' |Y/N|\n",
    "| CNT_CHILDREN| Quantidade de filhos |inteiro|\n",
    "| AMT_INCOME_TOTAL| Annual income |inteiro|\n",
    "| NAME_INCOME_TYPE|Tipo de renda (ex: assaliariado, autônomo etc) | texto |\n",
    "| NAME_EDUCATION_TYPE| Nível de educação (ex: secundário, superior etc) |texto|\n",
    "| NAME_FAMILY_STATUS | Estado civil (ex: solteiro, casado etc)| texto |\n",
    "| NAME_HOUSING_TYPE | tipo de residência (ex: casa/apartamento, com os pais etc) | texto |\n",
    "| DAYS_BIRTH | Count backwards from current day (0), -1 means yesterday |inteiro|\n",
    "| DAYS_EMPLOYED | Count backwards from current day (0), -1 means yesterday |inteiro|\n",
    "| FLAG_MOBIL | Indica se possui celular (1 = sim, 0 = não) |binária|\n",
    "| FLAG_WORK_PHONE | Indica se possui telefone comercial (1 = sim, 0 = não) |binária|\n",
    "| FLAG_PHONE | Indica se possui telefone (1 = sim, 0 = não) |binária|\n",
    "| FLAG_EMAIL | Indica se possui e-mail (1 = sim, 0 = não) |binária|\n",
    "| OCCUPATION_TYPE | Occupation\t |Qualitativa|\n",
    "| CNT_FAM_MEMBERS | quantidade de pessoas na residência |inteiro|\n",
    "\n",
    "Base de pagamentos - pagamentos_largo.csv  \n",
    "\n",
    "| Nome da Variável         | Description                                         | Tipo  |\n",
    "| ------------------------ |:---------------------------------------------------:| -----:|\n",
    "| ID| identificador do cliente (chave) |inteiro|\n",
    "| mes_00 a mes_24| faixa de atraso mês a mês do cliente <br>0: 1-29 days past due &nbsp;&nbsp;&nbsp;&nbsp; 1: 30-59 days past due <br />2: 60-89 days overdue &nbsp;&nbsp;&nbsp;&nbsp; 3: 90-119 days overdue <br /> 4: 120-149 days overdue &nbsp;&nbsp;&nbsp;&nbsp; 5: more than 150 days <br />C: paid off that month &nbsp;&nbsp;&nbsp;&nbsp; X: No loan for the month |Qualitativa|\n",
    "\n",
    "#### Construindo a variável resposta\n",
    "A base de pagamentos está em um formato de 'base larga'. Essa base possui informações de pagamentos do cliente mês a mês a partir do mês de aquisição do crédito (mês 0) até o vigésimo quarto mês após a aquisição do crédito (mês 24). Utilizaremos essa base para determinar se um proponente é considerado 'bom pagador' ou caso apresente atraso representativo, será considerado 'mau pagador'.\n",
    "\n",
    "#### Base larga vs base longa\n",
    "A base ser larga significa que há uma linha para cada cliente, e que as informações estarão nas colunas, em contraste com a 'base longa', em que haveria uma linha para cada combinação cliente/mês, uma coluna indicando o cliente, outra indicando o mês, e apenas uma coluna com a informação do atraso.\n",
    "\n",
    "#### Tarefa 1) Marcar *default* no mês\n",
    "Faça uma indicadora de se o cliente está em *default* em cada uma das marcações (mes_00 a mes_24). Dica: você pode utilizar o método ```.isin()``` do Pandas. Consulte a [documentação](https://pandas.pydata.org/pandas-docs/stable/reference/api/pandas.DataFrame.isin.html) caso necessário.\n",
    "\n",
    "#### Tarefa 2) 'bons' e 'maus' ao longo de todos os 24 meses de desempenho\n",
    "Marque para cada cliente se ele teve pelo menos um episódio de *default* entre o mês 0 e o mês 24. Dica: o método ```sum()``` pode ajudar. Caso precise, consulte a [documentação](https://pandas.pydata.org/docs/reference/api/pandas.DataFrame.sum.html) e procure pelo argumento ```axis```, você viu outros métodos que possuem esse argumento também. Tendo o número de meses em default de cada cliente, basta marcar ```True``` para todos aqueles que possuem pelo menos 1 mês em *default* e ```False``` para os demais.\n",
    "\n",
    "#### Tarefa 3) Marcando proponentes expostos ao risco de crédito\n",
    "Marcando proponentes que se tornaram tomadores: lembre-se de que clientes que não adquiriram o cartão devem ser desconsiderados. A base de pagamentos possui apenas clientes que adquiriram cartão de crédito, então você pode selecionar somente os clientes da base de propostas que se encontram na base de pagamentos.\n",
    "\n",
    "#### Tarefa 4) Consolidando as informações\n",
    "Faça uma junção das informações da base de propostas com a variável de *default* que você acabou de construir. Talvez você consiga realizar a tarefa 3 e tarefa 4 em uma única linha de código ;)\n",
    "\n",
    "#### Tarefa 5) Verificando\n",
    "Faça uma contagem dos valores do *default* que você construiu. "
   ]
  },
  {
   "cell_type": "code",
   "execution_count": 2,
   "metadata": {},
   "outputs": [],
   "source": [
    "import pandas as pd"
   ]
  },
  {
   "cell_type": "code",
   "execution_count": 4,
   "metadata": {},
   "outputs": [],
   "source": [
    "propostas = pd.read_csv('application_record.csv')\n",
    "pg = pd.read_csv('pagamentos_largo.csv')"
   ]
  },
  {
   "cell_type": "code",
   "execution_count": 5,
   "metadata": {},
   "outputs": [],
   "source": [
    "mapa_atraso = {\n",
    "    '0': 0,     # 1-29 dias em atraso\n",
    "    '1': 1,     # 30-59 dias em atraso\n",
    "    '2': 2,     # 60-89 dias em atraso\n",
    "    '3': 3,     # 90-119 dias em atraso\n",
    "    '4': 4,     # 120-149 dias em atraso\n",
    "    '5': 5,     # Mais de 150 dias em atraso\n",
    "    'C': 0,     # Pago naquele mês\n",
    "    'X': -1,    # Sem empréstimo para o mês\n",
    "}"
   ]
  },
  {
   "cell_type": "code",
   "execution_count": 6,
   "metadata": {},
   "outputs": [
    {
     "name": "stderr",
     "output_type": "stream",
     "text": [
      "C:\\Users\\Vitor\\AppData\\Local\\Temp\\ipykernel_18976\\2093514530.py:9: FutureWarning: Downcasting behavior in `replace` is deprecated and will be removed in a future version. To retain the old behavior, explicitly call `result.infer_objects(copy=False)`. To opt-in to the future behavior, set `pd.set_option('future.no_silent_downcasting', True)`\n",
      "  pg[col] = pg[col].replace(mapa_atraso).infer_objects()\n"
     ]
    }
   ],
   "source": [
    "# 1) Seu código aqui\n",
    "columns_sorted = ['ID'] + sorted([col for col in pg.columns if col.startswith('mes_')], \n",
    "                                  key=lambda x: int(x.split('_')[1]))\n",
    "pg = pg[columns_sorted]\n",
    "\n",
    "# Aplicar o mapeamento de atraso\n",
    "for col in pg.columns:\n",
    "    if col.startswith('mes_'):\n",
    "        pg[col] = pg[col].replace(mapa_atraso).infer_objects()\n",
    "\n",
    "# Função para classificar os clientes em default\n",
    "def classicacao_default(row):\n",
    "    # Conta quantos meses têm atraso >= 3, ignorando NaN\n",
    "    default_count = (row[1:] >= 3).sum()  # Considera todas as colunas menos a primeira (ID)\n",
    "\n",
    "    # Classifica como default se o count for >= 3, caso contrário, não default\n",
    "    return 'default' if default_count >= 3 else 'nao default'\n",
    "\n",
    "# Aplicar a função para criar a coluna de classificação\n",
    "pg['classificacao'] = pg.apply(classicacao_default, axis=1)"
   ]
  },
  {
   "cell_type": "code",
   "execution_count": 20,
   "metadata": {},
   "outputs": [
    {
     "name": "stdout",
     "output_type": "stream",
     "text": [
      "Quantidade de registros com default: 124\n"
     ]
    }
   ],
   "source": [
    "contagem_defaults = pg['classificacao'].value_counts().get('default', 0)\n",
    "print(f\"Quantidade de registros com default: {contagem_defaults}\")"
   ]
  },
  {
   "cell_type": "code",
   "execution_count": 30,
   "metadata": {},
   "outputs": [],
   "source": [
    "# 2) Seu código aqui\n",
    "# Seleciona as colunas de 'mes_0' a 'mes_24'\n",
    "cols_default_periodo = [col for col in pg.columns if col.startswith('mes_') and int(col.split('_')[1]) <= 24]\n",
    "\n",
    "# Verifica se o cliente teve pelo menos 1 mês com atraso >= 3 entre o mês 0 e o mês 24\n",
    "pg['teve_default_0_24'] = (pg[cols_default_periodo] >= 3).sum(axis=1) > 0"
   ]
  },
  {
   "cell_type": "code",
   "execution_count": 52,
   "metadata": {},
   "outputs": [],
   "source": [
    "# 3, 4) Seu código aqui\n",
    "# Fazendo a juncao dos dois DF\n",
    "propostas_com_risco = pd.merge(propostas, pg[['ID', 'teve_default_0_24']], on='ID', how='inner')"
   ]
  },
  {
   "cell_type": "code",
   "execution_count": 54,
   "metadata": {},
   "outputs": [
    {
     "name": "stdout",
     "output_type": "stream",
     "text": [
      "teve_default_0_24\n",
      "False    16462\n",
      "True       188\n",
      "Name: count, dtype: int64\n"
     ]
    }
   ],
   "source": [
    "# 5) eu código aqui\n",
    "# Faz a contagem dos valores da coluna 'teve_default_0_24'\n",
    "contagem_default = propostas_com_risco['teve_default_0_24'].value_counts()\n",
    "\n",
    "# Exibe a contagem dos valores\n",
    "print(contagem_default)"
   ]
  },
  {
   "cell_type": "code",
   "execution_count": null,
   "metadata": {},
   "outputs": [],
   "source": []
  }
 ],
 "metadata": {
  "kernelspec": {
   "display_name": "Python 3 (ipykernel)",
   "language": "python",
   "name": "python3"
  },
  "language_info": {
   "codemirror_mode": {
    "name": "ipython",
    "version": 3
   },
   "file_extension": ".py",
   "mimetype": "text/x-python",
   "name": "python",
   "nbconvert_exporter": "python",
   "pygments_lexer": "ipython3",
   "version": "3.12.4"
  }
 },
 "nbformat": 4,
 "nbformat_minor": 4
}
